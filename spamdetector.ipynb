{
 "cells": [
  {
   "cell_type": "code",
   "execution_count": 1,
   "id": "224d8105",
   "metadata": {
    "_cell_guid": "b1076dfc-b9ad-4769-8c92-a6c4dae69d19",
    "_uuid": "8f2839f25d086af736a60e9eeb907d3b93b6e0e5",
    "execution": {
     "iopub.execute_input": "2024-10-24T12:16:04.150085Z",
     "iopub.status.busy": "2024-10-24T12:16:04.149649Z",
     "iopub.status.idle": "2024-10-24T12:16:05.023009Z",
     "shell.execute_reply": "2024-10-24T12:16:05.021831Z"
    },
    "papermill": {
     "duration": 0.8871,
     "end_time": "2024-10-24T12:16:05.025589",
     "exception": false,
     "start_time": "2024-10-24T12:16:04.138489",
     "status": "completed"
    },
    "tags": []
   },
   "outputs": [
    {
     "name": "stdout",
     "output_type": "stream",
     "text": [
      "/kaggle/input/spam-sms-classification-using-nlp/Spam_SMS.csv\n"
     ]
    }
   ],
   "source": [
    "# This Python 3 environment comes with many helpful analytics libraries installed\n",
    "# It is defined by the kaggle/python Docker image: https://github.com/kaggle/docker-python\n",
    "# For example, here's several helpful packages to load\n",
    "\n",
    "import numpy as np # linear algebra\n",
    "import pandas as pd # data processing, CSV file I/O (e.g. pd.read_csv)\n",
    "\n",
    "# Input data files are available in the read-only \"../input/\" directory\n",
    "# For example, running this (by clicking run or pressing Shift+Enter) will list all files under the input directory\n",
    "\n",
    "import os\n",
    "for dirname, _, filenames in os.walk('/kaggle/input'):\n",
    "    for filename in filenames:\n",
    "        print(os.path.join(dirname, filename))\n",
    "\n",
    "# You can write up to 20GB to the current directory (/kaggle/working/) that gets preserved as output when you create a version using \"Save & Run All\" \n",
    "# You can also write temporary files to /kaggle/temp/, but they won't be saved outside of the current session"
   ]
  },
  {
   "cell_type": "code",
   "execution_count": 2,
   "id": "74972148",
   "metadata": {
    "execution": {
     "iopub.execute_input": "2024-10-24T12:16:05.043487Z",
     "iopub.status.busy": "2024-10-24T12:16:05.042933Z",
     "iopub.status.idle": "2024-10-24T12:16:05.090887Z",
     "shell.execute_reply": "2024-10-24T12:16:05.089774Z"
    },
    "papermill": {
     "duration": 0.059544,
     "end_time": "2024-10-24T12:16:05.093388",
     "exception": false,
     "start_time": "2024-10-24T12:16:05.033844",
     "status": "completed"
    },
    "tags": []
   },
   "outputs": [
    {
     "data": {
      "text/html": [
       "<div>\n",
       "<style scoped>\n",
       "    .dataframe tbody tr th:only-of-type {\n",
       "        vertical-align: middle;\n",
       "    }\n",
       "\n",
       "    .dataframe tbody tr th {\n",
       "        vertical-align: top;\n",
       "    }\n",
       "\n",
       "    .dataframe thead th {\n",
       "        text-align: right;\n",
       "    }\n",
       "</style>\n",
       "<table border=\"1\" class=\"dataframe\">\n",
       "  <thead>\n",
       "    <tr style=\"text-align: right;\">\n",
       "      <th></th>\n",
       "      <th>Class</th>\n",
       "      <th>Message</th>\n",
       "    </tr>\n",
       "  </thead>\n",
       "  <tbody>\n",
       "    <tr>\n",
       "      <th>0</th>\n",
       "      <td>ham</td>\n",
       "      <td>Go until jurong point, crazy.. Available only ...</td>\n",
       "    </tr>\n",
       "    <tr>\n",
       "      <th>1</th>\n",
       "      <td>ham</td>\n",
       "      <td>Ok lar... Joking wif u oni...</td>\n",
       "    </tr>\n",
       "    <tr>\n",
       "      <th>2</th>\n",
       "      <td>spam</td>\n",
       "      <td>Free entry in 2 a wkly comp to win FA Cup fina...</td>\n",
       "    </tr>\n",
       "    <tr>\n",
       "      <th>3</th>\n",
       "      <td>ham</td>\n",
       "      <td>U dun say so early hor... U c already then say...</td>\n",
       "    </tr>\n",
       "    <tr>\n",
       "      <th>4</th>\n",
       "      <td>ham</td>\n",
       "      <td>Nah I don't think he goes to usf, he lives aro...</td>\n",
       "    </tr>\n",
       "  </tbody>\n",
       "</table>\n",
       "</div>"
      ],
      "text/plain": [
       "  Class                                            Message\n",
       "0   ham  Go until jurong point, crazy.. Available only ...\n",
       "1   ham                      Ok lar... Joking wif u oni...\n",
       "2  spam  Free entry in 2 a wkly comp to win FA Cup fina...\n",
       "3   ham  U dun say so early hor... U c already then say...\n",
       "4   ham  Nah I don't think he goes to usf, he lives aro..."
      ]
     },
     "execution_count": 2,
     "metadata": {},
     "output_type": "execute_result"
    }
   ],
   "source": [
    "data_df = pd.read_csv('/kaggle/input/spam-sms-classification-using-nlp/Spam_SMS.csv')\n",
    "data_df.head()"
   ]
  },
  {
   "cell_type": "code",
   "execution_count": 3,
   "id": "88723555",
   "metadata": {
    "execution": {
     "iopub.execute_input": "2024-10-24T12:16:05.112331Z",
     "iopub.status.busy": "2024-10-24T12:16:05.111454Z",
     "iopub.status.idle": "2024-10-24T12:16:05.135644Z",
     "shell.execute_reply": "2024-10-24T12:16:05.134490Z"
    },
    "papermill": {
     "duration": 0.036802,
     "end_time": "2024-10-24T12:16:05.138552",
     "exception": false,
     "start_time": "2024-10-24T12:16:05.101750",
     "status": "completed"
    },
    "tags": []
   },
   "outputs": [
    {
     "name": "stdout",
     "output_type": "stream",
     "text": [
      "<class 'pandas.core.frame.DataFrame'>\n",
      "RangeIndex: 5574 entries, 0 to 5573\n",
      "Data columns (total 2 columns):\n",
      " #   Column   Non-Null Count  Dtype \n",
      "---  ------   --------------  ----- \n",
      " 0   Class    5574 non-null   object\n",
      " 1   Message  5574 non-null   object\n",
      "dtypes: object(2)\n",
      "memory usage: 87.2+ KB\n"
     ]
    }
   ],
   "source": [
    "data_df.info()"
   ]
  },
  {
   "cell_type": "code",
   "execution_count": 4,
   "id": "d3dcd3ee",
   "metadata": {
    "execution": {
     "iopub.execute_input": "2024-10-24T12:16:05.156814Z",
     "iopub.status.busy": "2024-10-24T12:16:05.156400Z",
     "iopub.status.idle": "2024-10-24T12:16:05.177179Z",
     "shell.execute_reply": "2024-10-24T12:16:05.176156Z"
    },
    "papermill": {
     "duration": 0.032816,
     "end_time": "2024-10-24T12:16:05.179684",
     "exception": false,
     "start_time": "2024-10-24T12:16:05.146868",
     "status": "completed"
    },
    "tags": []
   },
   "outputs": [
    {
     "data": {
      "text/html": [
       "<div>\n",
       "<style scoped>\n",
       "    .dataframe tbody tr th:only-of-type {\n",
       "        vertical-align: middle;\n",
       "    }\n",
       "\n",
       "    .dataframe tbody tr th {\n",
       "        vertical-align: top;\n",
       "    }\n",
       "\n",
       "    .dataframe thead th {\n",
       "        text-align: right;\n",
       "    }\n",
       "</style>\n",
       "<table border=\"1\" class=\"dataframe\">\n",
       "  <thead>\n",
       "    <tr style=\"text-align: right;\">\n",
       "      <th></th>\n",
       "      <th>Class</th>\n",
       "      <th>Message</th>\n",
       "    </tr>\n",
       "  </thead>\n",
       "  <tbody>\n",
       "    <tr>\n",
       "      <th>count</th>\n",
       "      <td>5574</td>\n",
       "      <td>5574</td>\n",
       "    </tr>\n",
       "    <tr>\n",
       "      <th>unique</th>\n",
       "      <td>2</td>\n",
       "      <td>5159</td>\n",
       "    </tr>\n",
       "    <tr>\n",
       "      <th>top</th>\n",
       "      <td>ham</td>\n",
       "      <td>Sorry, I'll call later</td>\n",
       "    </tr>\n",
       "    <tr>\n",
       "      <th>freq</th>\n",
       "      <td>4827</td>\n",
       "      <td>30</td>\n",
       "    </tr>\n",
       "  </tbody>\n",
       "</table>\n",
       "</div>"
      ],
      "text/plain": [
       "       Class                 Message\n",
       "count   5574                    5574\n",
       "unique     2                    5159\n",
       "top      ham  Sorry, I'll call later\n",
       "freq    4827                      30"
      ]
     },
     "execution_count": 4,
     "metadata": {},
     "output_type": "execute_result"
    }
   ],
   "source": [
    "data_df.describe()"
   ]
  },
  {
   "cell_type": "code",
   "execution_count": 5,
   "id": "244a3343",
   "metadata": {
    "execution": {
     "iopub.execute_input": "2024-10-24T12:16:05.198668Z",
     "iopub.status.busy": "2024-10-24T12:16:05.198247Z",
     "iopub.status.idle": "2024-10-24T12:16:05.208255Z",
     "shell.execute_reply": "2024-10-24T12:16:05.207336Z"
    },
    "papermill": {
     "duration": 0.022225,
     "end_time": "2024-10-24T12:16:05.210632",
     "exception": false,
     "start_time": "2024-10-24T12:16:05.188407",
     "status": "completed"
    },
    "tags": []
   },
   "outputs": [
    {
     "data": {
      "text/plain": [
       "Class      0\n",
       "Message    0\n",
       "dtype: int64"
      ]
     },
     "execution_count": 5,
     "metadata": {},
     "output_type": "execute_result"
    }
   ],
   "source": [
    "data_df.isnull().sum()"
   ]
  },
  {
   "cell_type": "code",
   "execution_count": 6,
   "id": "06d72a36",
   "metadata": {
    "execution": {
     "iopub.execute_input": "2024-10-24T12:16:05.230894Z",
     "iopub.status.busy": "2024-10-24T12:16:05.230454Z",
     "iopub.status.idle": "2024-10-24T12:16:07.365998Z",
     "shell.execute_reply": "2024-10-24T12:16:07.364951Z"
    },
    "papermill": {
     "duration": 2.149275,
     "end_time": "2024-10-24T12:16:07.368803",
     "exception": false,
     "start_time": "2024-10-24T12:16:05.219528",
     "status": "completed"
    },
    "tags": []
   },
   "outputs": [],
   "source": [
    "import string\n",
    "from nltk.corpus import stopwords"
   ]
  },
  {
   "cell_type": "code",
   "execution_count": 7,
   "id": "a38be1df",
   "metadata": {
    "execution": {
     "iopub.execute_input": "2024-10-24T12:16:07.388338Z",
     "iopub.status.busy": "2024-10-24T12:16:07.387733Z",
     "iopub.status.idle": "2024-10-24T12:16:07.394341Z",
     "shell.execute_reply": "2024-10-24T12:16:07.393327Z"
    },
    "papermill": {
     "duration": 0.019292,
     "end_time": "2024-10-24T12:16:07.396913",
     "exception": false,
     "start_time": "2024-10-24T12:16:07.377621",
     "status": "completed"
    },
    "tags": []
   },
   "outputs": [],
   "source": [
    "def preprocess(text):\n",
    "    nopunc = [char for char in text if char not in string.punctuation]\n",
    "    nopunc=''.join(nopunc)\n",
    "    return[word for word in nopunc.split() if word.lower() not in stopwords.words('english')]"
   ]
  },
  {
   "cell_type": "code",
   "execution_count": 8,
   "id": "92381772",
   "metadata": {
    "execution": {
     "iopub.execute_input": "2024-10-24T12:16:07.417439Z",
     "iopub.status.busy": "2024-10-24T12:16:07.416949Z",
     "iopub.status.idle": "2024-10-24T12:16:07.444140Z",
     "shell.execute_reply": "2024-10-24T12:16:07.442793Z"
    },
    "papermill": {
     "duration": 0.040718,
     "end_time": "2024-10-24T12:16:07.446952",
     "exception": false,
     "start_time": "2024-10-24T12:16:07.406234",
     "status": "completed"
    },
    "tags": []
   },
   "outputs": [
    {
     "data": {
      "text/plain": [
       "0    [Go, jurong, point, crazy, Available, bugis, n...\n",
       "1                       [Ok, lar, Joking, wif, u, oni]\n",
       "2    [Free, entry, 2, wkly, comp, win, FA, Cup, fin...\n",
       "3        [U, dun, say, early, hor, U, c, already, say]\n",
       "4    [Nah, dont, think, goes, usf, lives, around, t...\n",
       "Name: Message, dtype: object"
      ]
     },
     "execution_count": 8,
     "metadata": {},
     "output_type": "execute_result"
    }
   ],
   "source": [
    "data_df['Message'].head().apply(preprocess)"
   ]
  },
  {
   "cell_type": "code",
   "execution_count": 9,
   "id": "543a2c06",
   "metadata": {
    "execution": {
     "iopub.execute_input": "2024-10-24T12:16:07.467327Z",
     "iopub.status.busy": "2024-10-24T12:16:07.466856Z",
     "iopub.status.idle": "2024-10-24T12:16:32.462523Z",
     "shell.execute_reply": "2024-10-24T12:16:32.461296Z"
    },
    "papermill": {
     "duration": 25.009082,
     "end_time": "2024-10-24T12:16:32.465338",
     "exception": false,
     "start_time": "2024-10-24T12:16:07.456256",
     "status": "completed"
    },
    "tags": []
   },
   "outputs": [],
   "source": [
    "from sklearn.feature_extraction.text import CountVectorizer\n",
    "messages=CountVectorizer(analyzer = preprocess)\n",
    "messages.fit(data_df['Message'])\n",
    "messages_vector=messages.transform(data_df['Message'])"
   ]
  },
  {
   "cell_type": "code",
   "execution_count": 10,
   "id": "e2c4edeb",
   "metadata": {
    "execution": {
     "iopub.execute_input": "2024-10-24T12:16:32.484933Z",
     "iopub.status.busy": "2024-10-24T12:16:32.484489Z",
     "iopub.status.idle": "2024-10-24T12:16:32.491917Z",
     "shell.execute_reply": "2024-10-24T12:16:32.490842Z"
    },
    "papermill": {
     "duration": 0.020253,
     "end_time": "2024-10-24T12:16:32.494463",
     "exception": false,
     "start_time": "2024-10-24T12:16:32.474210",
     "status": "completed"
    },
    "tags": []
   },
   "outputs": [],
   "source": [
    "from sklearn.feature_extraction.text import TfidfTransformer\n",
    "tfidf_transform = TfidfTransformer().fit(messages_vector)"
   ]
  },
  {
   "cell_type": "code",
   "execution_count": 11,
   "id": "3e17d76e",
   "metadata": {
    "execution": {
     "iopub.execute_input": "2024-10-24T12:16:32.514199Z",
     "iopub.status.busy": "2024-10-24T12:16:32.513756Z",
     "iopub.status.idle": "2024-10-24T12:16:32.528728Z",
     "shell.execute_reply": "2024-10-24T12:16:32.527717Z"
    },
    "papermill": {
     "duration": 0.027968,
     "end_time": "2024-10-24T12:16:32.531417",
     "exception": false,
     "start_time": "2024-10-24T12:16:32.503449",
     "status": "completed"
    },
    "tags": []
   },
   "outputs": [],
   "source": [
    "mess_tfidf_transform = tfidf_transform.transform(messages_vector)"
   ]
  },
  {
   "cell_type": "code",
   "execution_count": 12,
   "id": "703672fe",
   "metadata": {
    "execution": {
     "iopub.execute_input": "2024-10-24T12:16:32.551652Z",
     "iopub.status.busy": "2024-10-24T12:16:32.550528Z",
     "iopub.status.idle": "2024-10-24T12:16:32.558441Z",
     "shell.execute_reply": "2024-10-24T12:16:32.557173Z"
    },
    "papermill": {
     "duration": 0.020825,
     "end_time": "2024-10-24T12:16:32.561059",
     "exception": false,
     "start_time": "2024-10-24T12:16:32.540234",
     "status": "completed"
    },
    "tags": []
   },
   "outputs": [
    {
     "name": "stdout",
     "output_type": "stream",
     "text": [
      "<Compressed Sparse Row sparse matrix of dtype 'float64'\n",
      "\twith 50547 stored elements and shape (5574, 11421)>\n",
      "  Coords\tValues\n",
      "  (0, 11161)\t0.23026810232333333\n",
      "  (0, 10963)\t0.19073747309736885\n",
      "  (0, 8915)\t0.24704694620162193\n",
      "  (0, 8334)\t0.17047287571100914\n",
      "  (0, 7666)\t0.2640334289254678\n",
      "  (0, 7553)\t0.3125357690523998\n",
      "  (0, 6937)\t0.18347278575774867\n",
      "  (0, 6906)\t0.15158985673221018\n",
      "  (0, 6217)\t0.1891588424976738\n",
      "  (0, 5769)\t0.24984740383972864\n",
      "  (0, 5218)\t0.26870529747253846\n",
      "  (0, 5217)\t0.29834974396666064\n",
      "  (0, 4653)\t0.3125357690523998\n",
      "  (0, 2060)\t0.2420402708624076\n",
      "  (0, 1483)\t0.3125357690523998\n",
      "  (0, 1110)\t0.28828459898893377\n",
      "  (1, 11070)\t0.4006170106480546\n",
      "  (1, 10696)\t0.20637541507921356\n",
      "  (1, 8588)\t0.5043365091357772\n",
      "  (1, 7699)\t0.37674276971445636\n",
      "  (1, 3064)\t0.29120672453799534\n",
      "  (1, 2451)\t0.5619816842520484\n",
      "  (2, 11121)\t0.1910440822579616\n",
      "  (2, 11082)\t0.1589832198667402\n",
      "  (2, 10684)\t0.13995809814630436\n",
      "  :\t:\n",
      "  (5570, 6882)\t0.31368079307544483\n",
      "  (5570, 6691)\t0.4778073440068897\n",
      "  (5570, 6354)\t0.5575640609156794\n",
      "  (5570, 4880)\t0.38531415094034505\n",
      "  (5571, 10197)\t0.5204663741685426\n",
      "  (5571, 8250)\t0.4328328315638171\n",
      "  (5571, 3721)\t0.5204663741685426\n",
      "  (5571, 3228)\t0.5204663741685426\n",
      "  (5572, 11004)\t0.2043489302236467\n",
      "  (5572, 10785)\t0.22868080323471193\n",
      "  (5572, 9913)\t0.22380491302261465\n",
      "  (5572, 8418)\t0.22651924159910636\n",
      "  (5572, 7798)\t0.17244425922887213\n",
      "  (5572, 7394)\t0.3071456934819313\n",
      "  (5572, 7287)\t0.2678670510120643\n",
      "  (5572, 6984)\t0.2641645137785127\n",
      "  (5572, 6799)\t0.294184676121543\n",
      "  (5572, 6699)\t0.20084151138093012\n",
      "  (5572, 6282)\t0.26077089525440156\n",
      "  (5572, 5251)\t0.3023519422373167\n",
      "  (5572, 5055)\t0.3635676585126862\n",
      "  (5572, 4508)\t0.3470652916326901\n",
      "  (5573, 10646)\t0.5392203323961369\n",
      "  (5573, 8346)\t0.4854340344196527\n",
      "  (5573, 3431)\t0.688182556708363\n"
     ]
    }
   ],
   "source": [
    "print(mess_tfidf_transform)"
   ]
  },
  {
   "cell_type": "code",
   "execution_count": 13,
   "id": "c1c6795c",
   "metadata": {
    "execution": {
     "iopub.execute_input": "2024-10-24T12:16:32.580783Z",
     "iopub.status.busy": "2024-10-24T12:16:32.580350Z",
     "iopub.status.idle": "2024-10-24T12:16:32.616125Z",
     "shell.execute_reply": "2024-10-24T12:16:32.615137Z"
    },
    "papermill": {
     "duration": 0.048876,
     "end_time": "2024-10-24T12:16:32.618904",
     "exception": false,
     "start_time": "2024-10-24T12:16:32.570028",
     "status": "completed"
    },
    "tags": []
   },
   "outputs": [],
   "source": [
    "from sklearn.naive_bayes import MultinomialNB\n",
    "model = MultinomialNB().fit(mess_tfidf_transform,data_df['Class'])"
   ]
  },
  {
   "cell_type": "code",
   "execution_count": 14,
   "id": "56beb301",
   "metadata": {
    "execution": {
     "iopub.execute_input": "2024-10-24T12:16:32.639026Z",
     "iopub.status.busy": "2024-10-24T12:16:32.638569Z",
     "iopub.status.idle": "2024-10-24T12:16:32.649040Z",
     "shell.execute_reply": "2024-10-24T12:16:32.647906Z"
    },
    "papermill": {
     "duration": 0.023425,
     "end_time": "2024-10-24T12:16:32.651491",
     "exception": false,
     "start_time": "2024-10-24T12:16:32.628066",
     "status": "completed"
    },
    "tags": []
   },
   "outputs": [],
   "source": [
    "from sklearn.model_selection import train_test_split\n",
    "X_train,X_test,Y_train,Y_test = train_test_split(mess_tfidf_transform,data_df['Class'],test_size=0.3)"
   ]
  },
  {
   "cell_type": "code",
   "execution_count": 15,
   "id": "8db4e2d0",
   "metadata": {
    "execution": {
     "iopub.execute_input": "2024-10-24T12:16:32.671779Z",
     "iopub.status.busy": "2024-10-24T12:16:32.671361Z",
     "iopub.status.idle": "2024-10-24T12:16:32.701402Z",
     "shell.execute_reply": "2024-10-24T12:16:32.700230Z"
    },
    "papermill": {
     "duration": 0.043233,
     "end_time": "2024-10-24T12:16:32.703899",
     "exception": false,
     "start_time": "2024-10-24T12:16:32.660666",
     "status": "completed"
    },
    "tags": []
   },
   "outputs": [
    {
     "data": {
      "text/html": [
       "<style>#sk-container-id-1 {color: black;background-color: white;}#sk-container-id-1 pre{padding: 0;}#sk-container-id-1 div.sk-toggleable {background-color: white;}#sk-container-id-1 label.sk-toggleable__label {cursor: pointer;display: block;width: 100%;margin-bottom: 0;padding: 0.3em;box-sizing: border-box;text-align: center;}#sk-container-id-1 label.sk-toggleable__label-arrow:before {content: \"▸\";float: left;margin-right: 0.25em;color: #696969;}#sk-container-id-1 label.sk-toggleable__label-arrow:hover:before {color: black;}#sk-container-id-1 div.sk-estimator:hover label.sk-toggleable__label-arrow:before {color: black;}#sk-container-id-1 div.sk-toggleable__content {max-height: 0;max-width: 0;overflow: hidden;text-align: left;background-color: #f0f8ff;}#sk-container-id-1 div.sk-toggleable__content pre {margin: 0.2em;color: black;border-radius: 0.25em;background-color: #f0f8ff;}#sk-container-id-1 input.sk-toggleable__control:checked~div.sk-toggleable__content {max-height: 200px;max-width: 100%;overflow: auto;}#sk-container-id-1 input.sk-toggleable__control:checked~label.sk-toggleable__label-arrow:before {content: \"▾\";}#sk-container-id-1 div.sk-estimator input.sk-toggleable__control:checked~label.sk-toggleable__label {background-color: #d4ebff;}#sk-container-id-1 div.sk-label input.sk-toggleable__control:checked~label.sk-toggleable__label {background-color: #d4ebff;}#sk-container-id-1 input.sk-hidden--visually {border: 0;clip: rect(1px 1px 1px 1px);clip: rect(1px, 1px, 1px, 1px);height: 1px;margin: -1px;overflow: hidden;padding: 0;position: absolute;width: 1px;}#sk-container-id-1 div.sk-estimator {font-family: monospace;background-color: #f0f8ff;border: 1px dotted black;border-radius: 0.25em;box-sizing: border-box;margin-bottom: 0.5em;}#sk-container-id-1 div.sk-estimator:hover {background-color: #d4ebff;}#sk-container-id-1 div.sk-parallel-item::after {content: \"\";width: 100%;border-bottom: 1px solid gray;flex-grow: 1;}#sk-container-id-1 div.sk-label:hover label.sk-toggleable__label {background-color: #d4ebff;}#sk-container-id-1 div.sk-serial::before {content: \"\";position: absolute;border-left: 1px solid gray;box-sizing: border-box;top: 0;bottom: 0;left: 50%;z-index: 0;}#sk-container-id-1 div.sk-serial {display: flex;flex-direction: column;align-items: center;background-color: white;padding-right: 0.2em;padding-left: 0.2em;position: relative;}#sk-container-id-1 div.sk-item {position: relative;z-index: 1;}#sk-container-id-1 div.sk-parallel {display: flex;align-items: stretch;justify-content: center;background-color: white;position: relative;}#sk-container-id-1 div.sk-item::before, #sk-container-id-1 div.sk-parallel-item::before {content: \"\";position: absolute;border-left: 1px solid gray;box-sizing: border-box;top: 0;bottom: 0;left: 50%;z-index: -1;}#sk-container-id-1 div.sk-parallel-item {display: flex;flex-direction: column;z-index: 1;position: relative;background-color: white;}#sk-container-id-1 div.sk-parallel-item:first-child::after {align-self: flex-end;width: 50%;}#sk-container-id-1 div.sk-parallel-item:last-child::after {align-self: flex-start;width: 50%;}#sk-container-id-1 div.sk-parallel-item:only-child::after {width: 0;}#sk-container-id-1 div.sk-dashed-wrapped {border: 1px dashed gray;margin: 0 0.4em 0.5em 0.4em;box-sizing: border-box;padding-bottom: 0.4em;background-color: white;}#sk-container-id-1 div.sk-label label {font-family: monospace;font-weight: bold;display: inline-block;line-height: 1.2em;}#sk-container-id-1 div.sk-label-container {text-align: center;}#sk-container-id-1 div.sk-container {/* jupyter's `normalize.less` sets `[hidden] { display: none; }` but bootstrap.min.css set `[hidden] { display: none !important; }` so we also need the `!important` here to be able to override the default hidden behavior on the sphinx rendered scikit-learn.org. See: https://github.com/scikit-learn/scikit-learn/issues/21755 */display: inline-block !important;position: relative;}#sk-container-id-1 div.sk-text-repr-fallback {display: none;}</style><div id=\"sk-container-id-1\" class=\"sk-top-container\"><div class=\"sk-text-repr-fallback\"><pre>MultinomialNB()</pre><b>In a Jupyter environment, please rerun this cell to show the HTML representation or trust the notebook. <br />On GitHub, the HTML representation is unable to render, please try loading this page with nbviewer.org.</b></div><div class=\"sk-container\" hidden><div class=\"sk-item\"><div class=\"sk-estimator sk-toggleable\"><input class=\"sk-toggleable__control sk-hidden--visually\" id=\"sk-estimator-id-1\" type=\"checkbox\" checked><label for=\"sk-estimator-id-1\" class=\"sk-toggleable__label sk-toggleable__label-arrow\">MultinomialNB</label><div class=\"sk-toggleable__content\"><pre>MultinomialNB()</pre></div></div></div></div></div>"
      ],
      "text/plain": [
       "MultinomialNB()"
      ]
     },
     "execution_count": 15,
     "metadata": {},
     "output_type": "execute_result"
    }
   ],
   "source": [
    "model.fit(X_train,Y_train)"
   ]
  },
  {
   "cell_type": "code",
   "execution_count": 16,
   "id": "c9bf8e1d",
   "metadata": {
    "execution": {
     "iopub.execute_input": "2024-10-24T12:16:32.724369Z",
     "iopub.status.busy": "2024-10-24T12:16:32.723909Z",
     "iopub.status.idle": "2024-10-24T12:16:32.729487Z",
     "shell.execute_reply": "2024-10-24T12:16:32.728519Z"
    },
    "papermill": {
     "duration": 0.018551,
     "end_time": "2024-10-24T12:16:32.731924",
     "exception": false,
     "start_time": "2024-10-24T12:16:32.713373",
     "status": "completed"
    },
    "tags": []
   },
   "outputs": [],
   "source": [
    "predicted = model.predict(X_test)\n",
    "original = Y_test"
   ]
  },
  {
   "cell_type": "code",
   "execution_count": 17,
   "id": "98cd3073",
   "metadata": {
    "execution": {
     "iopub.execute_input": "2024-10-24T12:16:32.753036Z",
     "iopub.status.busy": "2024-10-24T12:16:32.752599Z",
     "iopub.status.idle": "2024-10-24T12:16:32.846831Z",
     "shell.execute_reply": "2024-10-24T12:16:32.845648Z"
    },
    "papermill": {
     "duration": 0.107427,
     "end_time": "2024-10-24T12:16:32.849233",
     "exception": false,
     "start_time": "2024-10-24T12:16:32.741806",
     "status": "completed"
    },
    "tags": []
   },
   "outputs": [
    {
     "name": "stdout",
     "output_type": "stream",
     "text": [
      "The accuracy of Model using Naive's Bayes model is :  0.949193066347878\n",
      "              precision    recall  f1-score   support\n",
      "\n",
      "         ham       1.00      0.94      0.97      1507\n",
      "        spam       0.66      1.00      0.80       166\n",
      "\n",
      "    accuracy                           0.95      1673\n",
      "   macro avg       0.83      0.97      0.88      1673\n",
      "weighted avg       0.97      0.95      0.95      1673\n",
      "\n"
     ]
    }
   ],
   "source": [
    "from sklearn.metrics import accuracy_score,classification_report\n",
    "print(\"The accuracy of Model using Naive's Bayes model is : \",accuracy_score(predicted,original))\n",
    "print(classification_report(predicted,original))"
   ]
  },
  {
   "cell_type": "code",
   "execution_count": 18,
   "id": "00ffbac3",
   "metadata": {
    "execution": {
     "iopub.execute_input": "2024-10-24T12:16:32.869779Z",
     "iopub.status.busy": "2024-10-24T12:16:32.869372Z",
     "iopub.status.idle": "2024-10-24T12:16:32.878036Z",
     "shell.execute_reply": "2024-10-24T12:16:32.876863Z"
    },
    "papermill": {
     "duration": 0.021886,
     "end_time": "2024-10-24T12:16:32.880610",
     "exception": false,
     "start_time": "2024-10-24T12:16:32.858724",
     "status": "completed"
    },
    "tags": []
   },
   "outputs": [],
   "source": [
    "from sklearn.linear_model import LogisticRegression\n",
    "logModel = LogisticRegression()\n",
    "X_Train,X_Test,Y_Train,Y_Test = train_test_split(mess_tfidf_transform,data_df['Class'],test_size=0.3)"
   ]
  },
  {
   "cell_type": "code",
   "execution_count": 19,
   "id": "e50b4673",
   "metadata": {
    "execution": {
     "iopub.execute_input": "2024-10-24T12:16:32.901103Z",
     "iopub.status.busy": "2024-10-24T12:16:32.900671Z",
     "iopub.status.idle": "2024-10-24T12:16:34.262906Z",
     "shell.execute_reply": "2024-10-24T12:16:34.261751Z"
    },
    "papermill": {
     "duration": 1.376502,
     "end_time": "2024-10-24T12:16:34.266627",
     "exception": false,
     "start_time": "2024-10-24T12:16:32.890125",
     "status": "completed"
    },
    "tags": []
   },
   "outputs": [
    {
     "data": {
      "text/html": [
       "<style>#sk-container-id-2 {color: black;background-color: white;}#sk-container-id-2 pre{padding: 0;}#sk-container-id-2 div.sk-toggleable {background-color: white;}#sk-container-id-2 label.sk-toggleable__label {cursor: pointer;display: block;width: 100%;margin-bottom: 0;padding: 0.3em;box-sizing: border-box;text-align: center;}#sk-container-id-2 label.sk-toggleable__label-arrow:before {content: \"▸\";float: left;margin-right: 0.25em;color: #696969;}#sk-container-id-2 label.sk-toggleable__label-arrow:hover:before {color: black;}#sk-container-id-2 div.sk-estimator:hover label.sk-toggleable__label-arrow:before {color: black;}#sk-container-id-2 div.sk-toggleable__content {max-height: 0;max-width: 0;overflow: hidden;text-align: left;background-color: #f0f8ff;}#sk-container-id-2 div.sk-toggleable__content pre {margin: 0.2em;color: black;border-radius: 0.25em;background-color: #f0f8ff;}#sk-container-id-2 input.sk-toggleable__control:checked~div.sk-toggleable__content {max-height: 200px;max-width: 100%;overflow: auto;}#sk-container-id-2 input.sk-toggleable__control:checked~label.sk-toggleable__label-arrow:before {content: \"▾\";}#sk-container-id-2 div.sk-estimator input.sk-toggleable__control:checked~label.sk-toggleable__label {background-color: #d4ebff;}#sk-container-id-2 div.sk-label input.sk-toggleable__control:checked~label.sk-toggleable__label {background-color: #d4ebff;}#sk-container-id-2 input.sk-hidden--visually {border: 0;clip: rect(1px 1px 1px 1px);clip: rect(1px, 1px, 1px, 1px);height: 1px;margin: -1px;overflow: hidden;padding: 0;position: absolute;width: 1px;}#sk-container-id-2 div.sk-estimator {font-family: monospace;background-color: #f0f8ff;border: 1px dotted black;border-radius: 0.25em;box-sizing: border-box;margin-bottom: 0.5em;}#sk-container-id-2 div.sk-estimator:hover {background-color: #d4ebff;}#sk-container-id-2 div.sk-parallel-item::after {content: \"\";width: 100%;border-bottom: 1px solid gray;flex-grow: 1;}#sk-container-id-2 div.sk-label:hover label.sk-toggleable__label {background-color: #d4ebff;}#sk-container-id-2 div.sk-serial::before {content: \"\";position: absolute;border-left: 1px solid gray;box-sizing: border-box;top: 0;bottom: 0;left: 50%;z-index: 0;}#sk-container-id-2 div.sk-serial {display: flex;flex-direction: column;align-items: center;background-color: white;padding-right: 0.2em;padding-left: 0.2em;position: relative;}#sk-container-id-2 div.sk-item {position: relative;z-index: 1;}#sk-container-id-2 div.sk-parallel {display: flex;align-items: stretch;justify-content: center;background-color: white;position: relative;}#sk-container-id-2 div.sk-item::before, #sk-container-id-2 div.sk-parallel-item::before {content: \"\";position: absolute;border-left: 1px solid gray;box-sizing: border-box;top: 0;bottom: 0;left: 50%;z-index: -1;}#sk-container-id-2 div.sk-parallel-item {display: flex;flex-direction: column;z-index: 1;position: relative;background-color: white;}#sk-container-id-2 div.sk-parallel-item:first-child::after {align-self: flex-end;width: 50%;}#sk-container-id-2 div.sk-parallel-item:last-child::after {align-self: flex-start;width: 50%;}#sk-container-id-2 div.sk-parallel-item:only-child::after {width: 0;}#sk-container-id-2 div.sk-dashed-wrapped {border: 1px dashed gray;margin: 0 0.4em 0.5em 0.4em;box-sizing: border-box;padding-bottom: 0.4em;background-color: white;}#sk-container-id-2 div.sk-label label {font-family: monospace;font-weight: bold;display: inline-block;line-height: 1.2em;}#sk-container-id-2 div.sk-label-container {text-align: center;}#sk-container-id-2 div.sk-container {/* jupyter's `normalize.less` sets `[hidden] { display: none; }` but bootstrap.min.css set `[hidden] { display: none !important; }` so we also need the `!important` here to be able to override the default hidden behavior on the sphinx rendered scikit-learn.org. See: https://github.com/scikit-learn/scikit-learn/issues/21755 */display: inline-block !important;position: relative;}#sk-container-id-2 div.sk-text-repr-fallback {display: none;}</style><div id=\"sk-container-id-2\" class=\"sk-top-container\"><div class=\"sk-text-repr-fallback\"><pre>LogisticRegression()</pre><b>In a Jupyter environment, please rerun this cell to show the HTML representation or trust the notebook. <br />On GitHub, the HTML representation is unable to render, please try loading this page with nbviewer.org.</b></div><div class=\"sk-container\" hidden><div class=\"sk-item\"><div class=\"sk-estimator sk-toggleable\"><input class=\"sk-toggleable__control sk-hidden--visually\" id=\"sk-estimator-id-2\" type=\"checkbox\" checked><label for=\"sk-estimator-id-2\" class=\"sk-toggleable__label sk-toggleable__label-arrow\">LogisticRegression</label><div class=\"sk-toggleable__content\"><pre>LogisticRegression()</pre></div></div></div></div></div>"
      ],
      "text/plain": [
       "LogisticRegression()"
      ]
     },
     "execution_count": 19,
     "metadata": {},
     "output_type": "execute_result"
    }
   ],
   "source": [
    "logModel.fit(X_Train,Y_Train)"
   ]
  },
  {
   "cell_type": "code",
   "execution_count": 20,
   "id": "ee07a342",
   "metadata": {
    "execution": {
     "iopub.execute_input": "2024-10-24T12:16:34.343103Z",
     "iopub.status.busy": "2024-10-24T12:16:34.342638Z",
     "iopub.status.idle": "2024-10-24T12:16:34.348489Z",
     "shell.execute_reply": "2024-10-24T12:16:34.347330Z"
    },
    "papermill": {
     "duration": 0.044969,
     "end_time": "2024-10-24T12:16:34.351921",
     "exception": false,
     "start_time": "2024-10-24T12:16:34.306952",
     "status": "completed"
    },
    "tags": []
   },
   "outputs": [],
   "source": [
    "prediction = logModel.predict(X_Test)\n",
    "expectation = Y_Test"
   ]
  },
  {
   "cell_type": "code",
   "execution_count": 21,
   "id": "7237f911",
   "metadata": {
    "execution": {
     "iopub.execute_input": "2024-10-24T12:16:34.390528Z",
     "iopub.status.busy": "2024-10-24T12:16:34.390078Z",
     "iopub.status.idle": "2024-10-24T12:16:34.403067Z",
     "shell.execute_reply": "2024-10-24T12:16:34.401857Z"
    },
    "papermill": {
     "duration": 0.026602,
     "end_time": "2024-10-24T12:16:34.405549",
     "exception": false,
     "start_time": "2024-10-24T12:16:34.378947",
     "status": "completed"
    },
    "tags": []
   },
   "outputs": [
    {
     "name": "stdout",
     "output_type": "stream",
     "text": [
      "Accuracy Scores with Logistics Regression :   0.931261207411835\n"
     ]
    }
   ],
   "source": [
    "print(\"Accuracy Scores with Logistics Regression :  \",accuracy_score(prediction,expectation))"
   ]
  },
  {
   "cell_type": "code",
   "execution_count": 22,
   "id": "43bad3f3",
   "metadata": {
    "execution": {
     "iopub.execute_input": "2024-10-24T12:16:34.428024Z",
     "iopub.status.busy": "2024-10-24T12:16:34.427584Z",
     "iopub.status.idle": "2024-10-24T12:16:34.537534Z",
     "shell.execute_reply": "2024-10-24T12:16:34.536203Z"
    },
    "papermill": {
     "duration": 0.124105,
     "end_time": "2024-10-24T12:16:34.540208",
     "exception": false,
     "start_time": "2024-10-24T12:16:34.416103",
     "status": "completed"
    },
    "tags": []
   },
   "outputs": [
    {
     "name": "stdout",
     "output_type": "stream",
     "text": [
      "              precision    recall  f1-score   support\n",
      "\n",
      "         ham       1.00      0.93      0.96      1553\n",
      "        spam       0.51      0.99      0.67       120\n",
      "\n",
      "    accuracy                           0.93      1673\n",
      "   macro avg       0.76      0.96      0.82      1673\n",
      "weighted avg       0.96      0.93      0.94      1673\n",
      "\n"
     ]
    }
   ],
   "source": [
    "print(classification_report(prediction,expectation))"
   ]
  },
  {
   "cell_type": "code",
   "execution_count": null,
   "id": "d429a36a",
   "metadata": {
    "papermill": {
     "duration": 0.009821,
     "end_time": "2024-10-24T12:16:34.560262",
     "exception": false,
     "start_time": "2024-10-24T12:16:34.550441",
     "status": "completed"
    },
    "tags": []
   },
   "outputs": [],
   "source": []
  }
 ],
 "metadata": {
  "kaggle": {
   "accelerator": "none",
   "dataSources": [
    {
     "datasetId": 5736412,
     "sourceId": 9440000,
     "sourceType": "datasetVersion"
    }
   ],
   "dockerImageVersionId": 30786,
   "isGpuEnabled": false,
   "isInternetEnabled": false,
   "language": "python",
   "sourceType": "notebook"
  },
  "kernelspec": {
   "display_name": "Python 3",
   "language": "python",
   "name": "python3"
  },
  "language_info": {
   "codemirror_mode": {
    "name": "ipython",
    "version": 3
   },
   "file_extension": ".py",
   "mimetype": "text/x-python",
   "name": "python",
   "nbconvert_exporter": "python",
   "pygments_lexer": "ipython3",
   "version": "3.10.14"
  },
  "papermill": {
   "default_parameters": {},
   "duration": 33.990715,
   "end_time": "2024-10-24T12:16:35.192384",
   "environment_variables": {},
   "exception": null,
   "input_path": "__notebook__.ipynb",
   "output_path": "__notebook__.ipynb",
   "parameters": {},
   "start_time": "2024-10-24T12:16:01.201669",
   "version": "2.6.0"
  }
 },
 "nbformat": 4,
 "nbformat_minor": 5
}
